{
  "nbformat": 4,
  "nbformat_minor": 0,
  "metadata": {
    "colab": {
      "name": "1 - Dados limpos - Cartão de crédito.ipynb",
      "provenance": [],
      "mount_file_id": "14GglSXiCVdPRioruMHqooy7Yk3_2EtBn",
      "authorship_tag": "ABX9TyPzlFkuZk1K1ezPaWaLSmwI",
      "include_colab_link": true
    },
    "kernelspec": {
      "name": "python3",
      "display_name": "Python 3"
    },
    "language_info": {
      "name": "python"
    }
  },
  "cells": [
    {
      "cell_type": "markdown",
      "metadata": {
        "id": "view-in-github",
        "colab_type": "text"
      },
      "source": [
        "<a href=\"https://colab.research.google.com/github/AndersonNiz/Limpeza-e-Tratamento-de-Dados/blob/main/1_Dados_limpos_Cart%C3%A3o_de_cr%C3%A9dito.ipynb\" target=\"_parent\"><img src=\"https://colab.research.google.com/assets/colab-badge.svg\" alt=\"Open In Colab\"/></a>"
      ]
    },
    {
      "cell_type": "code",
      "metadata": {
        "id": "NsMQK6Fq55lB"
      },
      "source": [
        "import pandas as pd\n",
        "import seaborn as srn\n",
        "import statistics as sts"
      ],
      "execution_count": null,
      "outputs": []
    },
    {
      "cell_type": "code",
      "metadata": {
        "id": "SUr0wizF5fDw",
        "colab": {
          "base_uri": "https://localhost:8080/",
          "height": 204
        },
        "outputId": "97a465a9-5df4-4842-f8d6-3f408839cec4"
      },
      "source": [
        "# importar dados\n",
        "dataset = pd.read_csv(\"/content/drive/MyDrive/Colab Notebooks/FormaçãoCD2/10.Prática em Python/dados/Churn.csv\", sep=\";\")\n",
        "dataset.head()"
      ],
      "execution_count": null,
      "outputs": [
        {
          "output_type": "execute_result",
          "data": {
            "text/html": [
              "<div>\n",
              "<style scoped>\n",
              "    .dataframe tbody tr th:only-of-type {\n",
              "        vertical-align: middle;\n",
              "    }\n",
              "\n",
              "    .dataframe tbody tr th {\n",
              "        vertical-align: top;\n",
              "    }\n",
              "\n",
              "    .dataframe thead th {\n",
              "        text-align: right;\n",
              "    }\n",
              "</style>\n",
              "<table border=\"1\" class=\"dataframe\">\n",
              "  <thead>\n",
              "    <tr style=\"text-align: right;\">\n",
              "      <th></th>\n",
              "      <th>X0</th>\n",
              "      <th>X1</th>\n",
              "      <th>X2</th>\n",
              "      <th>X3</th>\n",
              "      <th>X4</th>\n",
              "      <th>X4.1</th>\n",
              "      <th>X6</th>\n",
              "      <th>X7</th>\n",
              "      <th>X8</th>\n",
              "      <th>X9</th>\n",
              "      <th>X10</th>\n",
              "      <th>X11</th>\n",
              "    </tr>\n",
              "  </thead>\n",
              "  <tbody>\n",
              "    <tr>\n",
              "      <th>0</th>\n",
              "      <td>1</td>\n",
              "      <td>619</td>\n",
              "      <td>RS</td>\n",
              "      <td>Feminino</td>\n",
              "      <td>42</td>\n",
              "      <td>2</td>\n",
              "      <td>0</td>\n",
              "      <td>1</td>\n",
              "      <td>1</td>\n",
              "      <td>1</td>\n",
              "      <td>10134888.0</td>\n",
              "      <td>1</td>\n",
              "    </tr>\n",
              "    <tr>\n",
              "      <th>1</th>\n",
              "      <td>2</td>\n",
              "      <td>608</td>\n",
              "      <td>SC</td>\n",
              "      <td>Feminino</td>\n",
              "      <td>41</td>\n",
              "      <td>1</td>\n",
              "      <td>8380786</td>\n",
              "      <td>1</td>\n",
              "      <td>0</td>\n",
              "      <td>1</td>\n",
              "      <td>11254258.0</td>\n",
              "      <td>0</td>\n",
              "    </tr>\n",
              "    <tr>\n",
              "      <th>2</th>\n",
              "      <td>3</td>\n",
              "      <td>502</td>\n",
              "      <td>RS</td>\n",
              "      <td>Feminino</td>\n",
              "      <td>42</td>\n",
              "      <td>8</td>\n",
              "      <td>1596608</td>\n",
              "      <td>3</td>\n",
              "      <td>1</td>\n",
              "      <td>0</td>\n",
              "      <td>11393157.0</td>\n",
              "      <td>1</td>\n",
              "    </tr>\n",
              "    <tr>\n",
              "      <th>3</th>\n",
              "      <td>4</td>\n",
              "      <td>699</td>\n",
              "      <td>RS</td>\n",
              "      <td>Feminino</td>\n",
              "      <td>39</td>\n",
              "      <td>1</td>\n",
              "      <td>0</td>\n",
              "      <td>2</td>\n",
              "      <td>0</td>\n",
              "      <td>0</td>\n",
              "      <td>9382663.0</td>\n",
              "      <td>0</td>\n",
              "    </tr>\n",
              "    <tr>\n",
              "      <th>4</th>\n",
              "      <td>5</td>\n",
              "      <td>850</td>\n",
              "      <td>SC</td>\n",
              "      <td>Feminino</td>\n",
              "      <td>43</td>\n",
              "      <td>2</td>\n",
              "      <td>12551082</td>\n",
              "      <td>1</td>\n",
              "      <td>1</td>\n",
              "      <td>1</td>\n",
              "      <td>790841.0</td>\n",
              "      <td>0</td>\n",
              "    </tr>\n",
              "  </tbody>\n",
              "</table>\n",
              "</div>"
            ],
            "text/plain": [
              "   X0   X1  X2        X3  X4  X4.1        X6  X7  X8  X9         X10  X11\n",
              "0   1  619  RS  Feminino  42     2         0   1   1   1  10134888.0    1\n",
              "1   2  608  SC  Feminino  41     1   8380786   1   0   1  11254258.0    0\n",
              "2   3  502  RS  Feminino  42     8   1596608   3   1   0  11393157.0    1\n",
              "3   4  699  RS  Feminino  39     1         0   2   0   0   9382663.0    0\n",
              "4   5  850  SC  Feminino  43     2  12551082   1   1   1    790841.0    0"
            ]
          },
          "metadata": {},
          "execution_count": 2
        }
      ]
    },
    {
      "cell_type": "code",
      "metadata": {
        "id": "BUDWwTal5vmQ",
        "colab": {
          "base_uri": "https://localhost:8080/"
        },
        "outputId": "99f88e3b-131b-4892-e9da-c88aa63a2123"
      },
      "source": [
        "# tamanho\n",
        "dataset.shape"
      ],
      "execution_count": null,
      "outputs": [
        {
          "output_type": "execute_result",
          "data": {
            "text/plain": [
              "(999, 12)"
            ]
          },
          "metadata": {},
          "execution_count": 3
        }
      ]
    },
    {
      "cell_type": "code",
      "metadata": {
        "id": "Y47vlL0I6KwW"
      },
      "source": [
        "# dando nome as colunas:\n",
        "dataset.columns = [\"Id\", \"Score\", \"Estado\", \"Genero\", \"Idade\", \"Patrimonio\", \"Saldo\", \"Produtos,\",\n",
        "                   \"TemCartCredito\", \"Ativo\", \"Salario\", \"Saiu\"]"
      ],
      "execution_count": null,
      "outputs": []
    },
    {
      "cell_type": "code",
      "metadata": {
        "id": "7XIrEUlO6olz",
        "colab": {
          "base_uri": "https://localhost:8080/",
          "height": 204
        },
        "outputId": "fb0753e2-07f3-4b0e-d99b-e08458765c3d"
      },
      "source": [
        "dataset.head()"
      ],
      "execution_count": null,
      "outputs": [
        {
          "output_type": "execute_result",
          "data": {
            "text/html": [
              "<div>\n",
              "<style scoped>\n",
              "    .dataframe tbody tr th:only-of-type {\n",
              "        vertical-align: middle;\n",
              "    }\n",
              "\n",
              "    .dataframe tbody tr th {\n",
              "        vertical-align: top;\n",
              "    }\n",
              "\n",
              "    .dataframe thead th {\n",
              "        text-align: right;\n",
              "    }\n",
              "</style>\n",
              "<table border=\"1\" class=\"dataframe\">\n",
              "  <thead>\n",
              "    <tr style=\"text-align: right;\">\n",
              "      <th></th>\n",
              "      <th>Id</th>\n",
              "      <th>Score</th>\n",
              "      <th>Estado</th>\n",
              "      <th>Genero</th>\n",
              "      <th>Idade</th>\n",
              "      <th>Patrimonio</th>\n",
              "      <th>Saldo</th>\n",
              "      <th>Produtos,</th>\n",
              "      <th>TemCartCredito</th>\n",
              "      <th>Ativo</th>\n",
              "      <th>Salario</th>\n",
              "      <th>Saiu</th>\n",
              "    </tr>\n",
              "  </thead>\n",
              "  <tbody>\n",
              "    <tr>\n",
              "      <th>0</th>\n",
              "      <td>1</td>\n",
              "      <td>619</td>\n",
              "      <td>RS</td>\n",
              "      <td>Feminino</td>\n",
              "      <td>42</td>\n",
              "      <td>2</td>\n",
              "      <td>0</td>\n",
              "      <td>1</td>\n",
              "      <td>1</td>\n",
              "      <td>1</td>\n",
              "      <td>10134888.0</td>\n",
              "      <td>1</td>\n",
              "    </tr>\n",
              "    <tr>\n",
              "      <th>1</th>\n",
              "      <td>2</td>\n",
              "      <td>608</td>\n",
              "      <td>SC</td>\n",
              "      <td>Feminino</td>\n",
              "      <td>41</td>\n",
              "      <td>1</td>\n",
              "      <td>8380786</td>\n",
              "      <td>1</td>\n",
              "      <td>0</td>\n",
              "      <td>1</td>\n",
              "      <td>11254258.0</td>\n",
              "      <td>0</td>\n",
              "    </tr>\n",
              "    <tr>\n",
              "      <th>2</th>\n",
              "      <td>3</td>\n",
              "      <td>502</td>\n",
              "      <td>RS</td>\n",
              "      <td>Feminino</td>\n",
              "      <td>42</td>\n",
              "      <td>8</td>\n",
              "      <td>1596608</td>\n",
              "      <td>3</td>\n",
              "      <td>1</td>\n",
              "      <td>0</td>\n",
              "      <td>11393157.0</td>\n",
              "      <td>1</td>\n",
              "    </tr>\n",
              "    <tr>\n",
              "      <th>3</th>\n",
              "      <td>4</td>\n",
              "      <td>699</td>\n",
              "      <td>RS</td>\n",
              "      <td>Feminino</td>\n",
              "      <td>39</td>\n",
              "      <td>1</td>\n",
              "      <td>0</td>\n",
              "      <td>2</td>\n",
              "      <td>0</td>\n",
              "      <td>0</td>\n",
              "      <td>9382663.0</td>\n",
              "      <td>0</td>\n",
              "    </tr>\n",
              "    <tr>\n",
              "      <th>4</th>\n",
              "      <td>5</td>\n",
              "      <td>850</td>\n",
              "      <td>SC</td>\n",
              "      <td>Feminino</td>\n",
              "      <td>43</td>\n",
              "      <td>2</td>\n",
              "      <td>12551082</td>\n",
              "      <td>1</td>\n",
              "      <td>1</td>\n",
              "      <td>1</td>\n",
              "      <td>790841.0</td>\n",
              "      <td>0</td>\n",
              "    </tr>\n",
              "  </tbody>\n",
              "</table>\n",
              "</div>"
            ],
            "text/plain": [
              "   Id  Score Estado    Genero  ...  TemCartCredito  Ativo     Salario  Saiu\n",
              "0   1    619     RS  Feminino  ...               1      1  10134888.0     1\n",
              "1   2    608     SC  Feminino  ...               0      1  11254258.0     0\n",
              "2   3    502     RS  Feminino  ...               1      0  11393157.0     1\n",
              "3   4    699     RS  Feminino  ...               0      0   9382663.0     0\n",
              "4   5    850     SC  Feminino  ...               1      1    790841.0     0\n",
              "\n",
              "[5 rows x 12 columns]"
            ]
          },
          "metadata": {},
          "execution_count": 4
        }
      ]
    },
    {
      "cell_type": "markdown",
      "metadata": {
        "id": "pJFag4DBe8Cr"
      },
      "source": [
        "# Análise categórica"
      ]
    },
    {
      "cell_type": "code",
      "metadata": {
        "id": "2wBo4-vB6vyu"
      },
      "source": [
        "# agrupar dados, explorar dados categóricos\n",
        "agrupado = dataset.groupby(['Estado']).size()\n",
        "print(agrupado)\n",
        "\n",
        "agrupado.plot.bar(color = 'grey')"
      ],
      "execution_count": null,
      "outputs": []
    },
    {
      "cell_type": "code",
      "metadata": {
        "id": "wRV4KuuxXV5Z"
      },
      "source": [
        "# explorar colunas numéricas\n",
        "dataset['Score'].describe()"
      ],
      "execution_count": null,
      "outputs": []
    },
    {
      "cell_type": "code",
      "metadata": {
        "id": "3gm9YT5tYHQ6"
      },
      "source": [
        "# diagrama de caixa\n",
        "srn.boxplot(dataset['Score']).set_title('Score')"
      ],
      "execution_count": null,
      "outputs": []
    },
    {
      "cell_type": "code",
      "metadata": {
        "id": "yfaRYiPRYWgx"
      },
      "source": [
        "# histograma\n",
        "srn.distplot(dataset['Score']).set_title('Score')"
      ],
      "execution_count": null,
      "outputs": []
    },
    {
      "cell_type": "code",
      "metadata": {
        "id": "fACDhix4Zuvh"
      },
      "source": [
        "dataset['Idade'].describe()"
      ],
      "execution_count": null,
      "outputs": []
    },
    {
      "cell_type": "code",
      "metadata": {
        "id": "D1QJRqtuZ0yu"
      },
      "source": [
        "srn.boxplot(dataset['Idade']).set_title('Idade')\n",
        "# os dados apresentam muitos outliers de idade, como -20, 140, 0... erros de entrada de dados"
      ],
      "execution_count": null,
      "outputs": []
    },
    {
      "cell_type": "code",
      "metadata": {
        "id": "oc8MemXeZ_zq"
      },
      "source": [
        "srn.distplot(dataset['Idade']).set_title('Idade')"
      ],
      "execution_count": null,
      "outputs": []
    },
    {
      "cell_type": "code",
      "metadata": {
        "id": "RP-gmauebB1l"
      },
      "source": [
        "dataset['Saldo'].describe()\n",
        "srn.boxplot(dataset['Saldo']).set_title('Saldo')"
      ],
      "execution_count": null,
      "outputs": []
    },
    {
      "cell_type": "code",
      "metadata": {
        "id": "ea9EpmVlbpuZ"
      },
      "source": [
        "srn.distplot(dataset['Saldo']).set_title('Saldo')\n",
        "# muitas pessoas com saldo zero na conta, isso nao representa outliers."
      ],
      "execution_count": null,
      "outputs": []
    },
    {
      "cell_type": "code",
      "metadata": {
        "id": "HVyr8KCseB-K"
      },
      "source": [
        "dataset['Salario'].describe()"
      ],
      "execution_count": null,
      "outputs": []
    },
    {
      "cell_type": "code",
      "metadata": {
        "id": "Qj-AB6IZeFYL"
      },
      "source": [
        "srn.boxplot(dataset['Salario']).set_title('Salario')"
      ],
      "execution_count": null,
      "outputs": []
    },
    {
      "cell_type": "code",
      "metadata": {
        "id": "dP0Lq0ypeVKQ"
      },
      "source": [
        "srn.distplot(dataset['Salario']).set_title('Salario')"
      ],
      "execution_count": null,
      "outputs": []
    },
    {
      "cell_type": "code",
      "metadata": {
        "id": "GVqLzn0qensw"
      },
      "source": [
        "# verificação de valores não disponíveis NaN\n",
        "dataset.isnull().sum()\n",
        "# Apresenta NaN em uma variavel categórica e em variável numérica"
      ],
      "execution_count": null,
      "outputs": []
    },
    {
      "cell_type": "markdown",
      "metadata": {
        "id": "RD7NkbtnfIEX"
      },
      "source": [
        "# Tratamento nos dados"
      ]
    },
    {
      "cell_type": "markdown",
      "metadata": {
        "id": "SKvUcOR9h6Nz"
      },
      "source": [
        "Salários"
      ]
    },
    {
      "cell_type": "code",
      "metadata": {
        "id": "aQfd9lw7fLXL"
      },
      "source": [
        "# NaN para salários é substituido pela mediana\n",
        "dataset['Salario'].describe()"
      ],
      "execution_count": null,
      "outputs": []
    },
    {
      "cell_type": "code",
      "metadata": {
        "id": "ASV2NVk2fjEi"
      },
      "source": [
        "mediana = sts.median(dataset['Salario'])\n",
        "mediana"
      ],
      "execution_count": null,
      "outputs": []
    },
    {
      "cell_type": "code",
      "metadata": {
        "id": "iSRT9BV-fm8a"
      },
      "source": [
        "# substituição dos salários:\n",
        "dataset['Salario'].fillna(mediana, inplace=True)"
      ],
      "execution_count": null,
      "outputs": []
    },
    {
      "cell_type": "code",
      "metadata": {
        "id": "7qiywZ5Yf0CZ"
      },
      "source": [
        "# verificação\n",
        "dataset['Salario'].isnull().sum()"
      ],
      "execution_count": null,
      "outputs": []
    },
    {
      "cell_type": "markdown",
      "metadata": {
        "id": "sDZbGIIih84T"
      },
      "source": [
        "Gênero"
      ]
    },
    {
      "cell_type": "code",
      "metadata": {
        "id": "rqchYxNEf57I"
      },
      "source": [
        "# padronização das variáveis de gênero:\n",
        "agrupado = dataset.groupby(['Genero']).size()\n",
        "agrupado"
      ],
      "execution_count": null,
      "outputs": []
    },
    {
      "cell_type": "code",
      "metadata": {
        "id": "IDZT38-mgQbI"
      },
      "source": [
        "dataset['Genero'].isnull().sum()"
      ],
      "execution_count": null,
      "outputs": []
    },
    {
      "cell_type": "code",
      "metadata": {
        "id": "LXdJaUsMgYwW"
      },
      "source": [
        "# preencher os valores NaN com a moda (masculino):\n",
        "dataset['Genero'].fillna('Masculino', inplace=True)"
      ],
      "execution_count": null,
      "outputs": []
    },
    {
      "cell_type": "code",
      "metadata": {
        "id": "y3ttmO5-gqxP"
      },
      "source": [
        "# padronização de acordo com dominio\n",
        "dataset.loc[dataset['Genero'] == 'M', 'Genero'] = 'Masculino'\n",
        "dataset.loc[dataset['Genero'].isin(['Fem', 'F']), 'Genero'] = 'Feminino'"
      ],
      "execution_count": null,
      "outputs": []
    },
    {
      "cell_type": "code",
      "metadata": {
        "id": "J3-sHT-FhH8i"
      },
      "source": [
        "# Visualizando:\n",
        "agrupado = dataset.groupby(['Genero']).size()\n",
        "agrupado"
      ],
      "execution_count": null,
      "outputs": []
    },
    {
      "cell_type": "markdown",
      "metadata": {
        "id": "zkvN_SYriBTn"
      },
      "source": [
        "Idade"
      ]
    },
    {
      "cell_type": "code",
      "metadata": {
        "id": "AqpzigRviFX1"
      },
      "source": [
        "dataset['Idade'].describe()"
      ],
      "execution_count": null,
      "outputs": []
    },
    {
      "cell_type": "code",
      "metadata": {
        "id": "HVH0jqL6iEDk"
      },
      "source": [
        "# visualizar as idades fora do dominio\n",
        "dataset.loc[(dataset['Idade'] <= 0) | (dataset['Idade'] > 120)]"
      ],
      "execution_count": null,
      "outputs": []
    },
    {
      "cell_type": "code",
      "metadata": {
        "id": "uAoPveBbjBd_"
      },
      "source": [
        "# substituição das idades pela mediana\n",
        "mediana = sts.median(dataset['Idade'])\n",
        "mediana"
      ],
      "execution_count": null,
      "outputs": []
    },
    {
      "cell_type": "code",
      "metadata": {
        "id": "9cHt6shfjK8p"
      },
      "source": [
        "dataset.loc[(dataset['Idade'] <= 0) | (dataset['Idade'] > 120), 'Idade'] = mediana"
      ],
      "execution_count": null,
      "outputs": []
    },
    {
      "cell_type": "code",
      "metadata": {
        "id": "mUXMSwOcjfNG"
      },
      "source": [
        "# testando:\n",
        "dataset.loc[(dataset['Idade'] <= 0) | (dataset['Idade'] > 120)]"
      ],
      "execution_count": null,
      "outputs": []
    },
    {
      "cell_type": "markdown",
      "metadata": {
        "id": "NacTfqPqji0D"
      },
      "source": [
        "Dados duplicados"
      ]
    },
    {
      "cell_type": "code",
      "metadata": {
        "id": "UNj2ogsHkkuj"
      },
      "source": [
        "# verificar a existência\n",
        "dataset[dataset.duplicated(['Id'], keep=False)]"
      ],
      "execution_count": null,
      "outputs": []
    },
    {
      "cell_type": "code",
      "metadata": {
        "id": "KtGZYCyTlLpE"
      },
      "source": [
        "# excluindo pelo Id:\n",
        "dataset.drop_duplicates(subset='Id', keep='first', inplace=True)"
      ],
      "execution_count": null,
      "outputs": []
    },
    {
      "cell_type": "code",
      "metadata": {
        "id": "8LvBO3hyldKQ"
      },
      "source": [
        "# verificando novamente:\n",
        "dataset[dataset.duplicated(['Id'], keep=False)]"
      ],
      "execution_count": null,
      "outputs": []
    },
    {
      "cell_type": "markdown",
      "metadata": {
        "id": "EYIJhTLtliXO"
      },
      "source": [
        "Estado"
      ]
    },
    {
      "cell_type": "code",
      "metadata": {
        "id": "I9DNyeXblkR2"
      },
      "source": [
        "# estados fora do dominio:\n",
        "agrupado = dataset.groupby(['Estado']).size()\n",
        "agrupado"
      ],
      "execution_count": null,
      "outputs": []
    },
    {
      "cell_type": "code",
      "metadata": {
        "id": "9P9W4yv0lx_o"
      },
      "source": [
        "# os categóricos RP, SP E TD (não condizentes) são substituidos pela moda(RS):\n",
        "dataset.loc[dataset['Estado'].isin(['RP', 'SP', 'TD']), 'Estado'] = 'RS'"
      ],
      "execution_count": null,
      "outputs": []
    },
    {
      "cell_type": "code",
      "metadata": {
        "id": "IfjY1jRymPrS"
      },
      "source": [
        "# verificando:\n",
        "agrupado = dataset.groupby(['Estado']).size()\n",
        "agrupado"
      ],
      "execution_count": null,
      "outputs": []
    },
    {
      "cell_type": "markdown",
      "metadata": {
        "id": "TZorIvb_mUe3"
      },
      "source": [
        "Salário"
      ]
    },
    {
      "cell_type": "code",
      "metadata": {
        "id": "xrsONDItmVtf"
      },
      "source": [
        "# salarios com 2 * desv são substituidos pela mediana:\n",
        "desv = sts.stdev(dataset['Salario'])\n",
        "desv"
      ],
      "execution_count": null,
      "outputs": []
    },
    {
      "cell_type": "code",
      "metadata": {
        "id": "aTXVn67MnKio"
      },
      "source": [
        "mediana = sts.median(dataset['Salario'])\n",
        "mediana"
      ],
      "execution_count": null,
      "outputs": []
    },
    {
      "cell_type": "code",
      "metadata": {
        "id": "C0s5MGZcnXKF"
      },
      "source": [
        "# localizando salarios:\n",
        "dataset.loc[dataset['Salario'] >= 2*desv]"
      ],
      "execution_count": null,
      "outputs": []
    },
    {
      "cell_type": "code",
      "metadata": {
        "id": "jogBlUrang1k"
      },
      "source": [
        "# substituindo:\n",
        "dataset.loc[dataset['Salario'] >= 2* desv, 'Salario'] = mediana"
      ],
      "execution_count": null,
      "outputs": []
    },
    {
      "cell_type": "code",
      "metadata": {
        "id": "_pfa-rdwoCmj"
      },
      "source": [
        "# localizando novamente:\n",
        "dataset.loc[dataset['Salario'] >= 2*desv]"
      ],
      "execution_count": null,
      "outputs": []
    },
    {
      "cell_type": "markdown",
      "metadata": {
        "id": "YP8Y2dhPoGro"
      },
      "source": [
        "Dados tratados:"
      ]
    },
    {
      "cell_type": "code",
      "metadata": {
        "id": "EVZ1N3fToImr"
      },
      "source": [
        "dataset.head(10)"
      ],
      "execution_count": null,
      "outputs": []
    },
    {
      "cell_type": "code",
      "metadata": {
        "id": "3q5Ux_MSoVjT"
      },
      "source": [
        "dataset.shape"
      ],
      "execution_count": null,
      "outputs": []
    }
  ]
}
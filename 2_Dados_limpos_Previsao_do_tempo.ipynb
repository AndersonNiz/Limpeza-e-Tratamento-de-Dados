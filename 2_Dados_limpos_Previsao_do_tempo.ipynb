{
  "nbformat": 4,
  "nbformat_minor": 0,
  "metadata": {
    "colab": {
      "name": "2 - Dados limpos - Previsao do tempo",
      "provenance": [],
      "mount_file_id": "1PruCkm3hK8m1KrSoxopCIg2LWrOlHKub",
      "authorship_tag": "ABX9TyNKGJrNGiseMKocFv59xAeP",
      "include_colab_link": true
    },
    "kernelspec": {
      "name": "python3",
      "display_name": "Python 3"
    },
    "language_info": {
      "name": "python"
    }
  },
  "cells": [
    {
      "cell_type": "markdown",
      "metadata": {
        "id": "view-in-github",
        "colab_type": "text"
      },
      "source": [
        "<a href=\"https://colab.research.google.com/github/AndersonNiz/Limpeza-e-Tratamento-de-Dados/blob/main/2_Dados_limpos_Previsao_do_tempo.ipynb\" target=\"_parent\"><img src=\"https://colab.research.google.com/assets/colab-badge.svg\" alt=\"Open In Colab\"/></a>"
      ]
    },
    {
      "cell_type": "code",
      "metadata": {
        "id": "2QXNSK5Vp49R"
      },
      "source": [
        "import pandas as pd\n",
        "import seaborn as srn\n",
        "import statistics as sts"
      ],
      "execution_count": 2,
      "outputs": []
    },
    {
      "cell_type": "code",
      "metadata": {
        "id": "DopuOUoBqSix",
        "colab": {
          "base_uri": "https://localhost:8080/",
          "height": 483
        },
        "outputId": "06d64173-bbba-41b9-b660-bba1b2551e22"
      },
      "source": [
        "# importando dados:\n",
        "dados = pd.read_csv('/content/drive/MyDrive/Colab Notebooks/FormaçãoCD2/10.Prática em Python/dados/tempo.csv', sep=\";\")\n",
        "dados.head(14)"
      ],
      "execution_count": 11,
      "outputs": [
        {
          "output_type": "execute_result",
          "data": {
            "text/html": [
              "<div>\n",
              "<style scoped>\n",
              "    .dataframe tbody tr th:only-of-type {\n",
              "        vertical-align: middle;\n",
              "    }\n",
              "\n",
              "    .dataframe tbody tr th {\n",
              "        vertical-align: top;\n",
              "    }\n",
              "\n",
              "    .dataframe thead th {\n",
              "        text-align: right;\n",
              "    }\n",
              "</style>\n",
              "<table border=\"1\" class=\"dataframe\">\n",
              "  <thead>\n",
              "    <tr style=\"text-align: right;\">\n",
              "      <th></th>\n",
              "      <th>Aparencia</th>\n",
              "      <th>Temperatura</th>\n",
              "      <th>Umidade</th>\n",
              "      <th>Vento</th>\n",
              "      <th>Jogar</th>\n",
              "    </tr>\n",
              "  </thead>\n",
              "  <tbody>\n",
              "    <tr>\n",
              "      <th>0</th>\n",
              "      <td>sol</td>\n",
              "      <td>85</td>\n",
              "      <td>85.0</td>\n",
              "      <td>FALSO</td>\n",
              "      <td>nao</td>\n",
              "    </tr>\n",
              "    <tr>\n",
              "      <th>1</th>\n",
              "      <td>sol</td>\n",
              "      <td>80</td>\n",
              "      <td>90.0</td>\n",
              "      <td>VERDADEIRO</td>\n",
              "      <td>nao</td>\n",
              "    </tr>\n",
              "    <tr>\n",
              "      <th>2</th>\n",
              "      <td>nublado</td>\n",
              "      <td>83</td>\n",
              "      <td>86.0</td>\n",
              "      <td>FALSO</td>\n",
              "      <td>sim</td>\n",
              "    </tr>\n",
              "    <tr>\n",
              "      <th>3</th>\n",
              "      <td>chuva</td>\n",
              "      <td>70</td>\n",
              "      <td>NaN</td>\n",
              "      <td>FALSO</td>\n",
              "      <td>sim</td>\n",
              "    </tr>\n",
              "    <tr>\n",
              "      <th>4</th>\n",
              "      <td>chuva</td>\n",
              "      <td>68</td>\n",
              "      <td>80.0</td>\n",
              "      <td>FALSO</td>\n",
              "      <td>sim</td>\n",
              "    </tr>\n",
              "    <tr>\n",
              "      <th>5</th>\n",
              "      <td>chuva</td>\n",
              "      <td>65</td>\n",
              "      <td>70.0</td>\n",
              "      <td>VERDADEIRO</td>\n",
              "      <td>nao</td>\n",
              "    </tr>\n",
              "    <tr>\n",
              "      <th>6</th>\n",
              "      <td>menos</td>\n",
              "      <td>64</td>\n",
              "      <td>65.0</td>\n",
              "      <td>VERDADEIRO</td>\n",
              "      <td>sim</td>\n",
              "    </tr>\n",
              "    <tr>\n",
              "      <th>7</th>\n",
              "      <td>sol</td>\n",
              "      <td>1220</td>\n",
              "      <td>95.0</td>\n",
              "      <td>FALSO</td>\n",
              "      <td>nao</td>\n",
              "    </tr>\n",
              "    <tr>\n",
              "      <th>8</th>\n",
              "      <td>sol</td>\n",
              "      <td>69</td>\n",
              "      <td>70.0</td>\n",
              "      <td>FALSO</td>\n",
              "      <td>sim</td>\n",
              "    </tr>\n",
              "    <tr>\n",
              "      <th>9</th>\n",
              "      <td>chuva</td>\n",
              "      <td>75</td>\n",
              "      <td>200.0</td>\n",
              "      <td>NaN</td>\n",
              "      <td>sim</td>\n",
              "    </tr>\n",
              "    <tr>\n",
              "      <th>10</th>\n",
              "      <td>sol</td>\n",
              "      <td>75</td>\n",
              "      <td>70.0</td>\n",
              "      <td>VERDADEIRO</td>\n",
              "      <td>sim</td>\n",
              "    </tr>\n",
              "    <tr>\n",
              "      <th>11</th>\n",
              "      <td>nublado</td>\n",
              "      <td>72</td>\n",
              "      <td>90.0</td>\n",
              "      <td>VERDADEIRO</td>\n",
              "      <td>sim</td>\n",
              "    </tr>\n",
              "    <tr>\n",
              "      <th>12</th>\n",
              "      <td>nublado</td>\n",
              "      <td>81</td>\n",
              "      <td>75.0</td>\n",
              "      <td>FALSO</td>\n",
              "      <td>sim</td>\n",
              "    </tr>\n",
              "    <tr>\n",
              "      <th>13</th>\n",
              "      <td>chuva</td>\n",
              "      <td>71</td>\n",
              "      <td>91.0</td>\n",
              "      <td>VERDADEIRO</td>\n",
              "      <td>nao</td>\n",
              "    </tr>\n",
              "  </tbody>\n",
              "</table>\n",
              "</div>"
            ],
            "text/plain": [
              "   Aparencia  Temperatura  Umidade       Vento Jogar\n",
              "0        sol           85     85.0       FALSO   nao\n",
              "1        sol           80     90.0  VERDADEIRO   nao\n",
              "2    nublado           83     86.0       FALSO   sim\n",
              "3      chuva           70      NaN       FALSO   sim\n",
              "4      chuva           68     80.0       FALSO   sim\n",
              "5      chuva           65     70.0  VERDADEIRO   nao\n",
              "6      menos           64     65.0  VERDADEIRO   sim\n",
              "7        sol         1220     95.0       FALSO   nao\n",
              "8        sol           69     70.0       FALSO   sim\n",
              "9      chuva           75    200.0         NaN   sim\n",
              "10       sol           75     70.0  VERDADEIRO   sim\n",
              "11   nublado           72     90.0  VERDADEIRO   sim\n",
              "12   nublado           81     75.0       FALSO   sim\n",
              "13     chuva           71     91.0  VERDADEIRO   nao"
            ]
          },
          "metadata": {},
          "execution_count": 11
        }
      ]
    },
    {
      "cell_type": "code",
      "metadata": {
        "colab": {
          "base_uri": "https://localhost:8080/"
        },
        "id": "GWQj9l7xWVw3",
        "outputId": "e2f17490-4912-47c3-dd67-689928f81a5c"
      },
      "source": [
        "dados.shape"
      ],
      "execution_count": 10,
      "outputs": [
        {
          "output_type": "execute_result",
          "data": {
            "text/plain": [
              "(14, 5)"
            ]
          },
          "metadata": {},
          "execution_count": 10
        }
      ]
    },
    {
      "cell_type": "markdown",
      "metadata": {
        "id": "w5mVZE0IWrJo"
      },
      "source": [
        "# Análise categórica dos dados"
      ]
    },
    {
      "cell_type": "code",
      "metadata": {
        "colab": {
          "base_uri": "https://localhost:8080/"
        },
        "id": "rs_N5y2fWt4M",
        "outputId": "8f4e3c10-de58-4ff5-ec4b-2427061be66a"
      },
      "source": [
        "# Identificação de dados NaN:\n",
        "dados.isna().sum(axis = 0)"
      ],
      "execution_count": 23,
      "outputs": [
        {
          "output_type": "execute_result",
          "data": {
            "text/plain": [
              "Aparencia      0\n",
              "Temperatura    0\n",
              "Umidade        1\n",
              "Vento          1\n",
              "Jogar          0\n",
              "dtype: int64"
            ]
          },
          "metadata": {},
          "execution_count": 23
        }
      ]
    },
    {
      "cell_type": "markdown",
      "metadata": {
        "id": "pCmYz_ASXPat"
      },
      "source": [
        "Existem dados NaN para umidade e vento. Como esses dados são categóricos, eles serão substituidos pela moda dessas categorias."
      ]
    },
    {
      "cell_type": "code",
      "metadata": {
        "id": "t8zz4uJ0XYFq"
      },
      "source": [
        "# Identificação de dados inconsistentes no dominio Aparencia:\n",
        "aparencia_agrupado = dados.groupby(['Aparencia']).size()\n",
        "print(aparencia_agrupado)\n",
        "\n",
        "aparencia_agrupado.sum()\n",
        "\n",
        "aparencia_agrupado.plot.bar()"
      ],
      "execution_count": null,
      "outputs": []
    },
    {
      "cell_type": "markdown",
      "metadata": {
        "id": "s2-v4IwxYGFP"
      },
      "source": [
        "Dentro da categoria Aparencia existe um dado inconsistente denominado 'menos'. Esse será substituido pela moda "
      ]
    },
    {
      "cell_type": "code",
      "metadata": {
        "colab": {
          "base_uri": "https://localhost:8080/",
          "height": 366
        },
        "id": "kfFO-LfkY-zk",
        "outputId": "4d8b8e79-2480-4e3f-942f-c993e33274e6"
      },
      "source": [
        "# Busca de outliers para os dados de temperatura:\n",
        "srn.boxplot(dados['Temperatura']).set_title('Temperatura')"
      ],
      "execution_count": 22,
      "outputs": [
        {
          "output_type": "stream",
          "text": [
            "/usr/local/lib/python3.7/dist-packages/seaborn/_decorators.py:43: FutureWarning: Pass the following variable as a keyword arg: x. From version 0.12, the only valid positional argument will be `data`, and passing other arguments without an explicit keyword will result in an error or misinterpretation.\n",
            "  FutureWarning\n"
          ],
          "name": "stderr"
        },
        {
          "output_type": "execute_result",
          "data": {
            "text/plain": [
              "Text(0.5, 1.0, 'Temperatura')"
            ]
          },
          "metadata": {},
          "execution_count": 22
        },
        {
          "output_type": "display_data",
          "data": {
            "image/png": "[encoded data removed]",
            "text/plain": [
              "<Figure size 432x288 with 1 Axes>"
            ]
          },
          "metadata": {
            "needs_background": "light"
          }
        }
      ]
    },
    {
      "cell_type": "markdown",
      "metadata": {
        "id": "KR4opxjZZhk2"
      },
      "source": [
        "É possível identificar que a coluna 'Temperatura' apresenta um outlier com valor 1200, esse não fazendo sentido físico no contexto dos dados coletados, representando um erro de registro. Esse dado será substituido pela mediana."
      ]
    },
    {
      "cell_type": "code",
      "metadata": {
        "colab": {
          "base_uri": "https://localhost:8080/",
          "height": 366
        },
        "id": "8zHif-8XZ6-4",
        "outputId": "f52cf17a-e418-4542-91dd-dd387c744bcf"
      },
      "source": [
        "# Busca de outliers para os dados de umidade:\n",
        "srn.boxplot(dados['Umidade']).set_title('Umidade')"
      ],
      "execution_count": 24,
      "outputs": [
        {
          "output_type": "stream",
          "text": [
            "/usr/local/lib/python3.7/dist-packages/seaborn/_decorators.py:43: FutureWarning: Pass the following variable as a keyword arg: x. From version 0.12, the only valid positional argument will be `data`, and passing other arguments without an explicit keyword will result in an error or misinterpretation.\n",
            "  FutureWarning\n"
          ],
          "name": "stderr"
        },
        {
          "output_type": "execute_result",
          "data": {
            "text/plain": [
              "Text(0.5, 1.0, 'Umidade')"
            ]
          },
          "metadata": {},
          "execution_count": 24
        },
        {
          "output_type": "display_data",
          "data": {
            "image/png": "[encoded data removed]",
            "text/plain": [
              "<Figure size 432x288 with 1 Axes>"
            ]
          },
          "metadata": {
            "needs_background": "light"
          }
        }
      ]
    },
    {
      "cell_type": "markdown",
      "metadata": {
        "id": "_tIv8daFan0n"
      },
      "source": [
        "A coluna de umidade apresenta um outlier com valor 200, da mesma forma, não fazendo sentido físico 200% de umidade. Além disso, apresenta um dado NaN. Esses dois dados também serão substituídos pela mediana."
      ]
    },
    {
      "cell_type": "code",
      "metadata": {
        "colab": {
          "base_uri": "https://localhost:8080/"
        },
        "id": "tzc4cU_1aybZ",
        "outputId": "aa87666a-15e1-408e-96e3-75363c5f7fb4"
      },
      "source": [
        "# Identificação de dados inconsistentes no dominio Vento:\n",
        "vento_agrupado = dados.groupby(['Vento']).size()\n",
        "print(vento_agrupado)\n",
        "\n",
        "vento_agrupado.sum()"
      ],
      "execution_count": 42,
      "outputs": [
        {
          "output_type": "stream",
          "text": [
            "Vento\n",
            "FALSO         7\n",
            "VERDADEIRO    6\n",
            "dtype: int64\n"
          ],
          "name": "stdout"
        },
        {
          "output_type": "execute_result",
          "data": {
            "text/plain": [
              "13"
            ]
          },
          "metadata": {},
          "execution_count": 42
        }
      ]
    },
    {
      "cell_type": "markdown",
      "metadata": {
        "id": "HH0uQLm3a_7z"
      },
      "source": [
        "Os dados de vento estão agrupados de forma coerente, mas apresenta um valor NaN verificado anteriormente. Esse dado será substituído pela moda para manter a consistência na análise."
      ]
    },
    {
      "cell_type": "code",
      "metadata": {
        "colab": {
          "base_uri": "https://localhost:8080/"
        },
        "id": "ofhfEv6tcM36",
        "outputId": "4167ee6f-b33c-403e-8354-3f4500c2f556"
      },
      "source": [
        "# Identificação de dados inconsistentes no dominio Vento:\n",
        "jogar_agrupado = dados.groupby(['Jogar']).size()\n",
        "print(jogar_agrupado)\n",
        "\n",
        "jogar_agrupado.sum()"
      ],
      "execution_count": 41,
      "outputs": [
        {
          "output_type": "stream",
          "text": [
            "Jogar\n",
            "nao    5\n",
            "sim    9\n",
            "dtype: int64\n"
          ],
          "name": "stdout"
        },
        {
          "output_type": "execute_result",
          "data": {
            "text/plain": [
              "14"
            ]
          },
          "metadata": {},
          "execution_count": 41
        }
      ]
    },
    {
      "cell_type": "markdown",
      "metadata": {
        "id": "8mUNwo88dy4J"
      },
      "source": [
        "Os dados para a categoria Jogar são consistentes com o esperado."
      ]
    },
    {
      "cell_type": "markdown",
      "metadata": {
        "id": "QNLW-XTZd3L0"
      },
      "source": [
        "# Tratamento dos dados"
      ]
    },
    {
      "cell_type": "code",
      "metadata": {
        "id": "kTvsgvLoscMi"
      },
      "source": [
        "# Substituiçãp do dado inconsistente de Aparencia pela mediana:\n",
        "dados.loc[dados['Aparencia'] == 'menos', 'Aparencia'] = 'Sol'"
      ],
      "execution_count": 68,
      "outputs": []
    },
    {
      "cell_type": "code",
      "metadata": {
        "id": "SXms4u_Leqjw"
      },
      "source": [
        "# Substituiçãp do dado inconsistente de Temperatura pela mediana:\n",
        "mediana_temp = sts.median(dados['Temperatura'])\n",
        "mediana_temp"
      ],
      "execution_count": null,
      "outputs": []
    },
    {
      "cell_type": "code",
      "metadata": {
        "id": "iCT7MAhGorGD"
      },
      "source": [
        "dados.loc[(dados['Temperatura'] > 130), 'Temperatura'] = mediana_temp\n",
        "srn.boxplot(dados['Temperatura']).set_title('Temperatura')"
      ],
      "execution_count": null,
      "outputs": []
    },
    {
      "cell_type": "markdown",
      "metadata": {
        "id": "Di-1IQcBpr54"
      },
      "source": [
        "Todas as temperatuas agora estão dentro da faixa adequada (-130 ~ 130 F)."
      ]
    },
    {
      "cell_type": "code",
      "metadata": {
        "id": "ME0mHQmYpwej"
      },
      "source": [
        "# Substituiçãp do dado inconsistente de Umidade pela mediana:\n",
        "mediana_umid = sts.median(dados['Umidade'])\n",
        "mediana_umid"
      ],
      "execution_count": null,
      "outputs": []
    },
    {
      "cell_type": "code",
      "metadata": {
        "id": "wyhflXvIqKeI"
      },
      "source": [
        "dados.loc[(dados['Umidade'] > 100), 'Umidade'] = mediana_umid\n",
        "srn.boxplot(dados['Umidade']).set_title('Umidade')"
      ],
      "execution_count": null,
      "outputs": []
    },
    {
      "cell_type": "code",
      "metadata": {
        "id": "9VRc0U3gqZqm"
      },
      "source": [
        "# Substituiçãp do dado NaN de Umidade pela mediana:\n",
        "dados['Umidade'].fillna(mediana_umid, inplace=True)\n",
        "dados['Umidade'].isnull().sum()"
      ],
      "execution_count": null,
      "outputs": []
    },
    {
      "cell_type": "markdown",
      "metadata": {
        "id": "IT_jg0Kkqtfo"
      },
      "source": [
        "Os dados de umidade agora estão consistentes para análise posterior."
      ]
    },
    {
      "cell_type": "code",
      "metadata": {
        "id": "r5aCP-hUqrN4"
      },
      "source": [
        "# Substituiçãp do dado NaN de Vento pela moda:\n",
        "moda_vent = sts.mode(dados['Vento'])\n",
        "moda_vent"
      ],
      "execution_count": null,
      "outputs": []
    },
    {
      "cell_type": "code",
      "metadata": {
        "id": "INymx_J8rHhc"
      },
      "source": [
        "dados['Vento'].fillna(moda_vent, inplace=True)\n",
        "dados['Vento'].isnull().sum()"
      ],
      "execution_count": null,
      "outputs": []
    },
    {
      "cell_type": "markdown",
      "metadata": {
        "id": "PEm8pnKKrXI4"
      },
      "source": [
        "Dados de Vento consistentes para análise posterior."
      ]
    },
    {
      "cell_type": "markdown",
      "metadata": {
        "id": "fQDyVDRfrfL3"
      },
      "source": [
        "# Dados após limpeza"
      ]
    },
    {
      "cell_type": "code",
      "metadata": {
        "id": "XYWMg7FvrbHM"
      },
      "source": [
        "dados.head(14)"
      ],
      "execution_count": null,
      "outputs": []
    }
  ]
}